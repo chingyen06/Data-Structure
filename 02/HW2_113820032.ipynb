{
 "cells": [
  {
   "cell_type": "markdown",
   "metadata": {},
   "source": [
    "## Programming part of Homework 2 (Data Structures, Fall 2025)\n",
    "\n",
    "## Name: 曾靖諺\n",
    "## Student ID Number: 113820032\n",
    "\n",
    "### Programming problem 1\n",
    "Consider the problem to compute the product of two positive integers, $n$ and $m$, using only addition and subtraction.\n",
    "This programming problem is to consider the recursive approach in above problem and asks you to complete the following tasks.\n",
    "1. Implement the approach as a function named as `product_rec` using Python.\n",
    "2. Please have an iterative version for the approach and write a function for this version with function name `product_ite`.\n",
    "3. Compare these two function with the same input in terms of running time and write what you have observed.\n",
    "\n",
    "**Note** that we will use an in-built python library **`timeit`** and the module function **`timeit.timeit()`** for measuring the running time.\n",
    "For the programming problems, please do some experiments by yourself to observe the running time and the number of recursive calls. You need to report what you have observed from the experiments when you submit your homework."
   ]
  },
  {
   "cell_type": "code",
   "execution_count": 3,
   "metadata": {},
   "outputs": [
    {
     "name": "stdout",
     "output_type": "stream",
     "text": [
      "The product of 4 and 7 is 28\n"
     ]
    }
   ],
   "source": [
    "def product_rec(n, m):\n",
    "    if (m == 1):\n",
    "        return n\n",
    "    else:\n",
    "        return n + product_rec(n, m-1)\n",
    "\n",
    "print(\"The product of 4 and 7 is\", product_rec(4, 7))"
   ]
  },
  {
   "cell_type": "code",
   "execution_count": 4,
   "metadata": {},
   "outputs": [
    {
     "name": "stdout",
     "output_type": "stream",
     "text": [
      "The product of 4 and 7 is 28\n"
     ]
    }
   ],
   "source": [
    "def product_ite(n, m):\n",
    "    result = 0\n",
    "\n",
    "    for i in range(m):\n",
    "        result += n\n",
    "\n",
    "    return result\n",
    "\n",
    "print(\"The product of 4 and 7 is\", product_ite(4, 7))"
   ]
  },
  {
   "cell_type": "code",
   "execution_count": 10,
   "metadata": {},
   "outputs": [
    {
     "name": "stdout",
     "output_type": "stream",
     "text": [
      "Running time comparison (Timer Method 1):\n",
      "Recursion 80*700= 56000 Iteration 80*700= 56000\n",
      "Recursive approach: 1.0916520999744534\n",
      "iterative approach: 0.2828603000380099\n",
      "Running time comparison (Timer Method 2):\n",
      "Recursion 80*700= 56000 Iteration 80*700= 56000\n",
      "Recursive approach: 1.080564699950628\n",
      "Iterative approach: 0.29782050009816885\n"
     ]
    }
   ],
   "source": [
    "#---------------------------------------------------------timeit\n",
    "import timeit as ti\n",
    "\n",
    "#---------------------------------------------------------Method 1\n",
    "print(\"Running time comparison (Timer Method 1):\")\n",
    "tstart = ti.default_timer() #timer start 計時器開啟\n",
    "for i in range(10000):\n",
    "    product_rec(80, 700)\n",
    "tend = ti.default_timer() #timer end計時器關閉\n",
    "t_rec=tend - tstart#開始與結束的差值\n",
    "\n",
    "tstart = ti.default_timer() #timer start 計時器開啟\n",
    "for i in range(10000):\n",
    "    product_ite(80, 700)\n",
    "tend = ti.default_timer() #timer end計時器關閉\n",
    "t_ite=tend - tstart#開始與結束的差值\n",
    "print(\"Recursion 80*700=\", product_rec(80, 700),\"Iteration 80*700=\", product_ite(80, 700))\n",
    "print(\"Recursive approach:\", t_rec)\n",
    "print(\"iterative approach:\", t_ite)\n",
    "\n",
    "#---------------------------------------------------------Method 2\n",
    "print(\"Running time comparison (Timer Method 2):\")\n",
    "t_rec = ti.timeit(\"product_rec(80, 700)\", setup=\"from __main__ import product_rec\", number = 10000)#timeit(函數名稱,執行次數)\n",
    "t_ite = ti.timeit(\"product_ite(80, 700)\", setup=\"from __main__ import product_ite\", number = 10000)\n",
    "\n",
    "print(\"Recursion 80*700=\", product_rec(80, 700),\"Iteration 80*700=\", product_ite(80, 700))\n",
    "print(\"Recursive approach:\", t_rec)\n",
    "print(\"Iterative approach:\", t_ite)"
   ]
  },
  {
   "cell_type": "markdown",
   "metadata": {},
   "source": [
    "#### Please write down the observations you have after the comparisons:\n",
    "##### Inputs (values of n) for five experiments\n",
    "1.<br>40</br>\n",
    "2.<br>50</br>\n",
    "3.<br>60</br>\n",
    "4.<br>70</br>\n",
    "5.<br>80</br>\n",
    "##### Results of comparisoms\n",
    "*******************************************************************************************************\n",
    "**Method 1**\n",
    "\n",
    "| time          | time for exp1  | time for exp2  | time for exp3  | time for exp4  | time for exp5  | \n",
    "| -----------   | -------------- | -------------- | -------------- | -------------- | -------------- |\n",
    "|Iteration      | 0.30737100006081164 | 0.2797376000089571 | 0.3030913999537006 | 0.2775906000752002 | 0.2828603000380099 |\n",
    "|Recursion      | 1.0566684999503195 | 1.1072623000945896 | 1.1302462999010459 | 1.106996100046672 | 1.0916520999744534 |\n",
    "\n",
    "**Method 2**\n",
    "\n",
    "| time          | time for exp1  | time for exp2  | time for exp3  | time for exp4  | time for exp5  | \n",
    "| -----------   | -------------- | -------------- | -------------- | -------------- | -------------- |\n",
    "|Iteration      | 0.3293694999301806 | 0.3291188000002876 | 0.2869778999593109 | 0.2766126999631524 | 0.29782050009816885 |\n",
    "|Recursion      | 1.1887150999391451 | 1.1373448999365792 | 1.1021798000438139 | 1.0854448999743909 | 1.080564699950628 |\n",
    "\n",
    "*******************************************************************************************************\n",
    "\n",
    "##### Observations\n",
    "理論上遞迴(Recursion)與迭代(Iteration)方法的時間複雜度相同，皆為 O(n)。然而，實驗使用兩種方法測試，結果均顯示遞迴用時在1.05 ~ 1.19之間、迭代用時在0.27 ~ 0.33之間，差異約在3.2 ~ 4.3倍，這可能是因為遞迴法在每次呼叫時需要額外的函式呼叫，因此比迭代慢。"
   ]
  },
  {
   "cell_type": "markdown",
   "metadata": {},
   "source": [
    "### Programming problem 2\n",
    "Consider the problem of ***Chebyshev polynomials of the first kind***. Please use Python to implement the pseudo-code you provide for solving the problem. You should provide all the functions with the mentioned names, `chebyshev_recursive`, `chebyshev_memoreccu`, `chebyshev_addoutrec`, and `chebyshev_iterative` respectively. Then, perform a comparison on these functions by measuring the execution time.\n",
    "1. Please have the recursive function, `chebyshev_recursive` to list all the polynomials with the recursive definition.\n",
    "2. Please provide the memoized recursive function, `chebyshev_memoreccu` to list all the polynomials.\n",
    "3. Please use the way`LinearFibonacci}` we introduced in class to have a linear recursive function `chebyshev_addoutrec`.\n",
    "4. Please provide an iterative (no recursive call) function, `chebyshev_iterative`, which lists all the polynomials iteratively.\n",
    "5. In order to have the experiments for comparisons, please execute all the functions with the same input many times and then measure the practical running timme in average. Please write down your observations on these four versions.\n",
    "\n",
    "**Note** that we will use an in-built python library **`timeit`** and the module function **`timeit.timeit()`** for measuring the running time.\n",
    "For the programming problems, please do some experiments by yourself to observe the running time and the number of recursive calls. You need to report what you have observed from the experiments when you submit your homework.\n"
   ]
  },
  {
   "cell_type": "code",
   "execution_count": 5,
   "metadata": {},
   "outputs": [
    {
     "name": "stdout",
     "output_type": "stream",
     "text": [
      "The coefficients of T_0(x) in list = [1]\n",
      "The coefficients of T_1(x) in list = [1, 0]\n",
      "The coefficients of T_2(x) in list = [2, 0, -1]\n",
      "The coefficients of T_3(x) in list = [4, 0, -3, 0]\n",
      "The coefficients of T_4(x) in list = [8, 0, -8, 0, 1]\n",
      "The coefficients of T_5(x) in list = [16, 0, -20, 0, 5, 0]\n",
      "The coefficients of T_6(x) in list = [32, 0, -48, 0, 18, 0, -1]\n",
      "The coefficients of T_7(x) in list = [64, 0, -112, 0, 56, 0, -7, 0]\n",
      "The coefficients of T_8(x) in list = [128, 0, -256, 0, 160, 0, -32, 0, 1]\n",
      "The coefficients of T_9(x) in list = [256, 0, -576, 0, 432, 0, -120, 0, 9, 0]\n",
      "The coefficients of T_10(x) in list = [512, 0, -1280, 0, 1120, 0, -400, 0, 50, 0, -1]\n"
     ]
    }
   ],
   "source": [
    "def chebyshev_recursive(x):\n",
    "    if (x == 0):\n",
    "        return [1]\n",
    "    elif (x == 1):\n",
    "        return [1, 0]\n",
    "    else:\n",
    "        temp1 = chebyshev_recursive(x - 1)\n",
    "        temp2 = chebyshev_recursive(x - 2)\n",
    "        result = list()\n",
    "\n",
    "        for i in range(len(temp1)):\n",
    "            result.append(temp1[i] * 2)\n",
    "\n",
    "        result.append(0)\n",
    "\n",
    "        offset = len(result) - len(temp2)\n",
    "        \n",
    "        for i in range(0, len(temp2)):\n",
    "            result[i+offset] -= temp2[i]\n",
    "\n",
    "        return result\n",
    "\n",
    "if __name__ == \"__main__\":\n",
    "    # demo: print first 10 polynomials\n",
    "    for n in range(11):\n",
    "         print(f\"The coefficients of T_{n}(x) in list = {chebyshev_recursive(n)}\")"
   ]
  },
  {
   "cell_type": "code",
   "execution_count": 10,
   "metadata": {},
   "outputs": [
    {
     "name": "stdout",
     "output_type": "stream",
     "text": [
      "The coefficients of T_0(x) in list = [1]\n",
      "The coefficients of T_1(x) in list = [1, 0]\n",
      "The coefficients of T_2(x) in list = [2, 0, -1]\n",
      "The coefficients of T_3(x) in list = [4, 0, -3, 0]\n",
      "The coefficients of T_4(x) in list = [8, 0, -8, 0, 1]\n",
      "The coefficients of T_5(x) in list = [16, 0, -20, 0, 5, 0]\n",
      "The coefficients of T_6(x) in list = [32, 0, -48, 0, 18, 0, -1]\n",
      "The coefficients of T_7(x) in list = [64, 0, -112, 0, 56, 0, -7, 0]\n",
      "The coefficients of T_8(x) in list = [128, 0, -256, 0, 160, 0, -32, 0, 1]\n",
      "The coefficients of T_9(x) in list = [256, 0, -576, 0, 432, 0, -120, 0, 9, 0]\n",
      "The coefficients of T_10(x) in list = [512, 0, -1280, 0, 1120, 0, -400, 0, 50, 0, -1]\n"
     ]
    }
   ],
   "source": [
    "def chebyshev_memoreccu(x, m_table):\n",
    "    if (m_table[x] is not None):\n",
    "        return m_table[x]\n",
    "    if (x == 0):\n",
    "        result = [1]\n",
    "    elif (x == 1):\n",
    "        result = [1, 0]\n",
    "    else:\n",
    "        temp1 = chebyshev_memoreccu(x - 1, m_table)\n",
    "        temp2 = chebyshev_memoreccu(x - 2, m_table)\n",
    "        result = list()\n",
    "\n",
    "        for i in range(len(temp1)):\n",
    "            result.append(temp1[i] * 2)\n",
    "\n",
    "        result.append(0)\n",
    "\n",
    "        offset = len(result) - len(temp2)\n",
    "        \n",
    "        for i in range(0, len(temp2)):\n",
    "            result[i+offset] -= temp2[i]\n",
    "\n",
    "    m_table[x] = result\n",
    "    return result\n",
    "\n",
    "if __name__ == \"__main__\":\n",
    "    # demo: print first 10 polynomials\n",
    "    for n in range(11):\n",
    "      m_table=[None] * (n+1)\n",
    "      print(f\"The coefficients of T_{n}(x) in list = {chebyshev_memoreccu(n, m_table)}\")"
   ]
  },
  {
   "cell_type": "code",
   "execution_count": 16,
   "metadata": {},
   "outputs": [
    {
     "name": "stdout",
     "output_type": "stream",
     "text": [
      "The coefficients of T_0(x) in list = [1]\n",
      "The coefficients of T_1(x) in list = [1, 0]\n",
      "The coefficients of T_2(x) in list = [2, 0, -1]\n",
      "The coefficients of T_3(x) in list = [4, 0, -3, 0]\n",
      "The coefficients of T_4(x) in list = [8, 0, -8, 0, 1]\n",
      "The coefficients of T_5(x) in list = [16, 0, -20, 0, 5, 0]\n",
      "The coefficients of T_6(x) in list = [32, 0, -48, 0, 18, 0, -1]\n",
      "The coefficients of T_7(x) in list = [64, 0, -112, 0, 56, 0, -7, 0]\n",
      "The coefficients of T_8(x) in list = [128, 0, -256, 0, 160, 0, -32, 0, 1]\n",
      "The coefficients of T_9(x) in list = [256, 0, -576, 0, 432, 0, -120, 0, 9, 0]\n",
      "The coefficients of T_10(x) in list = [512, 0, -1280, 0, 1120, 0, -400, 0, 50, 0, -1]\n"
     ]
    }
   ],
   "source": [
    "def chebyshev_addoutrec(x):\n",
    "    def linear_recursive(x, prev_x1, prev_x2):\n",
    "        if (x == 0):\n",
    "            return prev_x2\n",
    "        elif (x == 1):\n",
    "            return prev_x1\n",
    "        else:\n",
    "            result = list()\n",
    "\n",
    "            for i in range(len(prev_x1)):\n",
    "                result.append(prev_x1[i] * 2) # T[x] = 2 * T[x-1]\n",
    "\n",
    "            result.append(0) # T[x] = x * T[x]\n",
    "\n",
    "            offset = len(result) - len(prev_x2)\n",
    "            \n",
    "            for i in range(len(prev_x2)):\n",
    "                result[i+offset] -= prev_x2[i]  # T[x] = T[x] - T[x-2]\n",
    "\n",
    "            return linear_recursive(x - 1, result, prev_x1)\n",
    "\n",
    "    return linear_recursive(x, [1, 0], [1])\n",
    "    \n",
    "if __name__ == \"__main__\":\n",
    "    # demo: print first 10 polynomials\n",
    "    for n in range(11):\n",
    "      print(f\"The coefficients of T_{n}(x) in list = {chebyshev_addoutrec(n)}\")"
   ]
  },
  {
   "cell_type": "code",
   "execution_count": 17,
   "metadata": {},
   "outputs": [
    {
     "name": "stdout",
     "output_type": "stream",
     "text": [
      "The coefficients of T_0(x) in list = [1]\n",
      "The coefficients of T_1(x) in list = [1, 0]\n",
      "The coefficients of T_2(x) in list = [2, 0, -1]\n",
      "The coefficients of T_3(x) in list = [4, 0, -3, 0]\n",
      "The coefficients of T_4(x) in list = [8, 0, -8, 0, 1]\n",
      "The coefficients of T_5(x) in list = [16, 0, -20, 0, 5, 0]\n",
      "The coefficients of T_6(x) in list = [32, 0, -48, 0, 18, 0, -1]\n",
      "The coefficients of T_7(x) in list = [64, 0, -112, 0, 56, 0, -7, 0]\n",
      "The coefficients of T_8(x) in list = [128, 0, -256, 0, 160, 0, -32, 0, 1]\n",
      "The coefficients of T_9(x) in list = [256, 0, -576, 0, 432, 0, -120, 0, 9, 0]\n",
      "The coefficients of T_10(x) in list = [512, 0, -1280, 0, 1120, 0, -400, 0, 50, 0, -1]\n"
     ]
    }
   ],
   "source": [
    "def chebyshev_iterative(x):\n",
    "    prev_n2 = [1]\n",
    "    prev_n1 = [1, 0]\n",
    "\n",
    "    memo = [prev_n2, prev_n1]\n",
    "\n",
    "    if (x <= 1):\n",
    "        return memo[x]\n",
    "    else:\n",
    "        for i in range(2, x + 1):\n",
    "            temp1 = memo[i-1]\n",
    "            temp2 = memo[i-2]\n",
    "            result = list()\n",
    "            for j in range(len(temp1)):\n",
    "                result.append(temp1[j] * 2)\n",
    "            result.append(0)\n",
    "            offset = len(result) - len(temp2)\n",
    "            for j in range(0, len(temp2)):\n",
    "                result[j+offset] -= temp2[j]\n",
    "            memo.append(result)\n",
    "        return memo[x]\n",
    "\n",
    "if __name__ == \"__main__\":\n",
    "    # demo: print first 10 polynomials\n",
    "    for n in range(11):\n",
    "         print(f\"The coefficients of T_{n}(x) in list = {chebyshev_iterative(n)}\")"
   ]
  },
  {
   "cell_type": "code",
   "execution_count": 32,
   "metadata": {},
   "outputs": [
    {
     "name": "stdout",
     "output_type": "stream",
     "text": [
      "Running time comparison (Timer Method 1):\n",
      "Deriving T_{5}(x)\n",
      "   Iterative approach :0.0018090000376105309\n",
      "   Recursive approach :0.002922200015746057\n",
      "  Memoizerec approach :0.002110400004312396\n",
      "   Addoutrec approach :0.002325400011613965\n",
      "Running time comparison (Timer Method 2):\n",
      "Deriving T_{5}(x)\n",
      "   Iterative approach :0.0016920999623835087\n",
      "   Recursive approach :0.0028789000352844596\n",
      "  Memoizerec approach :0.0020825000246986747\n",
      "   Addoutrec approach :0.0019887000089511275\n"
     ]
    }
   ],
   "source": [
    "#---------------------------------------------------------timeit\n",
    "import timeit as ti\n",
    "n=5\n",
    "#---------------------------------------------------------Method 1\n",
    "print(\"Running time comparison (Timer Method 1):\")\n",
    "\n",
    "tstart = ti.default_timer() #timer start 計時器開啟\n",
    "for i in range(1000):\n",
    "    chebyshev_iterative(n)\n",
    "tend = ti.default_timer() #timer end計時器關閉\n",
    "t_ite=tend - tstart#開始與結束的差值\n",
    "\n",
    "tstart = ti.default_timer() #timer start 計時器開啟\n",
    "for i in range(1000):\n",
    "    chebyshev_recursive(n)\n",
    "tend = ti.default_timer() #timer end計時器關閉\n",
    "t_rec=tend - tstart#開始與結束的差值\n",
    "\n",
    "tstart = ti.default_timer() #timer start 計時器開啟\n",
    "for i in range(1000):\n",
    "    m_table=[None] * (n+1)\n",
    "    chebyshev_memoreccu(n, m_table)\n",
    "tend = ti.default_timer() #timer end計時器關閉\n",
    "t_mem=tend - tstart#開始與結束的差值\n",
    "\n",
    "tstart = ti.default_timer() #timer start 計時器開啟\n",
    "for i in range(1000):\n",
    "    chebyshev_addoutrec(n)\n",
    "tend = ti.default_timer() #timer end計時器關閉\n",
    "t_add=tend - tstart#開始與結束的差值\n",
    "\n",
    "print(f\"Deriving T_{{{n}}}(x)\")\n",
    "print(f\"{\"Iterative approach\":>21} :{t_ite:<20}\")\n",
    "print(f\"{\"Recursive approach\":>21} :{t_rec:<20}\")\n",
    "print(f\"{\"Memoizerec approach\":>21} :{t_mem:<20}\")\n",
    "print(f\"{\"Addoutrec approach\":>21} :{t_add:<20}\")\n",
    "\n",
    "#---------------------------------------------------------Method 2\n",
    "print(\"Running time comparison (Timer Method 2):\")\n",
    "\n",
    "def iterative_test():\n",
    "    chebyshev_iterative(n)\n",
    "\n",
    "def recursive_test():\n",
    "    chebyshev_recursive(n)\n",
    "\n",
    "def memoreccu_test():\n",
    "    m_table=[None] * (n+1)\n",
    "    chebyshev_memoreccu(n, m_table)\n",
    "\n",
    "def addoutrec_test():\n",
    "    chebyshev_addoutrec(n)\n",
    "\n",
    "t_ite = ti.timeit(\"iterative_test()\", setup=\"from __main__ import iterative_test\", number = 1000)#timeit(函數名稱,執行次數)\n",
    "t_rec = ti.timeit(\"recursive_test()\", setup=\"from __main__ import recursive_test\", number = 1000)\n",
    "t_mem = ti.timeit(\"memoreccu_test()\", setup=\"from __main__ import memoreccu_test\", number = 1000)\n",
    "t_add = ti.timeit(\"addoutrec_test()\", setup=\"from __main__ import addoutrec_test\", number = 1000)\n",
    "\n",
    "print(f\"Deriving T_{{{n}}}(x)\")\n",
    "print(f\"{\"Iterative approach\":>21} :{t_ite:<20}\")\n",
    "print(f\"{\"Recursive approach\":>21} :{t_rec:<20}\")\n",
    "print(f\"{\"Memoizerec approach\":>21} :{t_mem:<20}\")\n",
    "print(f\"{\"Addoutrec approach\":>21} :{t_add:<20}\")"
   ]
  },
  {
   "cell_type": "markdown",
   "metadata": {},
   "source": [
    "#### Please write down the observations you have after the comparisons:\n",
    "##### Inputs for five experiments\n",
    "1.<br>5</br>\n",
    "2.<br>10</br>\n",
    "3.<br>15</br>\n",
    "4.<br>20</br>\n",
    "5.<br>25</br>\n",
    "##### Results of comparisoms\n",
    "*******************************************************************************************************\n",
    "**Method 1**\n",
    "\n",
    "| time          | time for exp1  | time for exp2  | time for exp3  | time for exp4  | time for exp5  | \n",
    "| -----------   | -------------- | -------------- | -------------- | -------------- | -------------- |\n",
    "|Iteration      | 0.0018090000376105309 | 0.005104199983179569 | 0.010873799910768867 | 0.015889300033450127 | 0.02785720000974834 |\n",
    "|Recursion      | 0.002325400011613965 | 0.009263799991458654 | 0.018902899930253625 | 0.030222499975934625 | 0.0501802999060601 |\n",
    "|Binrecurs      | 0.002922200015746057 | 0.06223289994522929 | 0.8127438999945298 | 9.38927759998478 | 106.03389520000201 |\n",
    "\n",
    "**Method 2**\n",
    "\n",
    "| time          | time for exp1  | time for exp2  | time for exp3  | time for exp4  | time for exp5  | \n",
    "| -----------   | -------------- | -------------- | -------------- | -------------- | -------------- |\n",
    "|Iteration      | 0.0016920999623835087 | 0.009294499992392957 | 0.011335500050336123 | 0.02950030006468296 | 0.04407880001235753 |\n",
    "|Recursion      | 0.0019887000089511275 | 0.008930400013923645 | 0.017564699985086918 | 0.03947910002898425 | 0.04494440008420497 |\n",
    "|Binrecurs      | 0.0028789000352844596 | 0.07045300002209842 | 0.8930961999576539 | 9.468407800071873 | 105.22646580007859 |\n",
    "\n",
    "*******************************************************************************************************\n",
    "\n",
    "##### Observations\n",
    "由結果可以看出Binrecurs(chebyshev_recursive)最慢，因為他每一次計算T_n都要呼叫T_(n-1)、T_(n-2)而導致計算量呈指數性增長。而不出乎意料的，迭代 Iteration(chebyshev_iterative)在所有測試結果中幾乎都是最快的，即便他與遞迴 Recursion(chebyshev_addoutrec)都是O(n^2)，然而也跟上一題一樣因為遞迴法在每次呼叫時需要額外的函式呼叫，因此比迭代慢一些。線性遞迴(Addoutrec)相比迭代(Iteration)慢一些，與記憶遞迴(Memoreccu)相近，但仍比Binrecurs快得多，因為他相同的T_n只計算一遍，避免了重複計算。"
   ]
  }
 ],
 "metadata": {
  "kernelspec": {
   "display_name": "Python 3 (ipykernel)",
   "language": "python",
   "name": "python3"
  },
  "language_info": {
   "codemirror_mode": {
    "name": "ipython",
    "version": 3
   },
   "file_extension": ".py",
   "mimetype": "text/x-python",
   "name": "python",
   "nbconvert_exporter": "python",
   "pygments_lexer": "ipython3",
   "version": "3.12.3"
  }
 },
 "nbformat": 4,
 "nbformat_minor": 4
}
